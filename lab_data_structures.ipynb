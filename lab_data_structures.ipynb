{
 "cells": [
  {
   "cell_type": "code",
   "execution_count": 10,
   "id": "70f3942a-31a8-42e3-87ed-99aefb714342",
   "metadata": {},
   "outputs": [],
   "source": [
    "products = [\"t-shirt\", \"mug\", \"hat\", \"book\", \"keychain\"]"
   ]
  },
  {
   "cell_type": "code",
   "execution_count": 11,
   "id": "68dd6e9b-2bce-47d6-b370-c5f95e1ec902",
   "metadata": {},
   "outputs": [],
   "source": [
    "inventory = {}"
   ]
  },
  {
   "cell_type": "code",
   "execution_count": 12,
   "id": "6bfe6685-b6e3-4678-abdb-6f90452482e0",
   "metadata": {},
   "outputs": [
    {
     "name": "stdin",
     "output_type": "stream",
     "text": [
      "introduce the number of t-shirts: 4\n"
     ]
    }
   ],
   "source": [
    "inventory = {\"t-shirt\":input(\"introduce the number of t-shirts:\")}"
   ]
  },
  {
   "cell_type": "code",
   "execution_count": 13,
   "id": "f5d3ba78-603f-4ffc-9a10-32b81c7a0bf1",
   "metadata": {},
   "outputs": [
    {
     "data": {
      "text/plain": [
       "{'t-shirt': '4'}"
      ]
     },
     "execution_count": 13,
     "metadata": {},
     "output_type": "execute_result"
    }
   ],
   "source": [
    "inventory"
   ]
  },
  {
   "cell_type": "code",
   "execution_count": 14,
   "id": "2b20d87a-2a4f-4517-989c-ed9b775e94d1",
   "metadata": {},
   "outputs": [
    {
     "name": "stdin",
     "output_type": "stream",
     "text": [
      "introduce the number of t-shirts: 4\n",
      "introduce the number of mugs: 4\n",
      "introduce the number of hats: 3\n",
      "introduce the number of books: 6\n",
      "introduce the number of keychains: 2\n"
     ]
    }
   ],
   "source": [
    "inventory = {\"t-shirt\":input(\"introduce the number of t-shirts:\"),\n",
    "             \"mug\":input(\"introduce the number of mugs:\"),\n",
    "             \"hat\":input(\"introduce the number of hats:\"),\n",
    "             \"book\":input(\"introduce the number of books:\"),\n",
    "             \"keychain\":input(\"introduce the number of keychains:\")}"
   ]
  },
  {
   "cell_type": "code",
   "execution_count": 15,
   "id": "c9752f84-ae3d-4ee4-949b-e6d031527d4c",
   "metadata": {},
   "outputs": [],
   "source": [
    "customer_orders = set() #hay que poner set, si solo ponemos () sería una tupla vacía"
   ]
  },
  {
   "cell_type": "code",
   "execution_count": 16,
   "id": "7ed2402f-8a39-4025-acdf-8a71b76910fb",
   "metadata": {},
   "outputs": [
    {
     "name": "stdin",
     "output_type": "stream",
     "text": [
      "Ingrese tres productos de la lista: mug,  book, hat\n"
     ]
    }
   ],
   "source": [
    "first_order= [x.strip() for x in input(\"Ingrese tres productos de la lista:\").split(\",\")] #es la única manera que he encontrado para que no cuente los espacios y me lo separe por comas"
   ]
  },
  {
   "cell_type": "code",
   "execution_count": 25,
   "id": "816848f6-db2f-409b-8e9a-ceeed0347d19",
   "metadata": {},
   "outputs": [
    {
     "data": {
      "text/plain": [
       "list"
      ]
     },
     "execution_count": 25,
     "metadata": {},
     "output_type": "execute_result"
    }
   ],
   "source": [
    "type(first_order) #ahora obtenemos una lista que la vamos a convertir en un set"
   ]
  },
  {
   "cell_type": "code",
   "execution_count": 23,
   "id": "ddeb6ec3-00f6-4e7d-97ec-d1f4855e3c0a",
   "metadata": {},
   "outputs": [],
   "source": [
    "first_order1 = set(first_order) #lo convertimos a un set"
   ]
  },
  {
   "cell_type": "code",
   "execution_count": 27,
   "id": "42e8eb6f-76f1-4976-8918-188dc7afc3a0",
   "metadata": {},
   "outputs": [
    {
     "ename": "TypeError",
     "evalue": "unhashable type: 'set'",
     "output_type": "error",
     "traceback": [
      "\u001b[1;31m---------------------------------------------------------------------------\u001b[0m",
      "\u001b[1;31mTypeError\u001b[0m                                 Traceback (most recent call last)",
      "Cell \u001b[1;32mIn[27], line 1\u001b[0m\n\u001b[1;32m----> 1\u001b[0m customer_orders\u001b[38;5;241m.\u001b[39madd(first_order1)\n",
      "\u001b[1;31mTypeError\u001b[0m: unhashable type: 'set'"
     ]
    }
   ],
   "source": [
    "customer_orders.add(first_order1) #da error porque no podemos añadir un set a otro set, o un conjunto a otro conjunto, para ello usaremos update()"
   ]
  },
  {
   "cell_type": "code",
   "execution_count": 29,
   "id": "0ba58474-87da-4cb8-866a-02d4f4dadd17",
   "metadata": {},
   "outputs": [],
   "source": [
    "customer_orders.update(first_order1) "
   ]
  },
  {
   "cell_type": "code",
   "execution_count": 31,
   "id": "bb09198f-47c5-415c-bfb8-4b469488a55c",
   "metadata": {},
   "outputs": [
    {
     "name": "stdout",
     "output_type": "stream",
     "text": [
      "{'mug', 'book', 'hat'}\n"
     ]
    }
   ],
   "source": [
    "print(customer_orders)"
   ]
  },
  {
   "cell_type": "code",
   "execution_count": 33,
   "id": "dc515dd1-33f2-40f0-bf3a-5114027f271a",
   "metadata": {},
   "outputs": [
    {
     "data": {
      "text/plain": [
       "set"
      ]
     },
     "execution_count": 33,
     "metadata": {},
     "output_type": "execute_result"
    }
   ],
   "source": [
    "type(customer_orders)"
   ]
  },
  {
   "cell_type": "code",
   "execution_count": 35,
   "id": "0bd4eb74-ff51-469a-87d5-b098ede0b542",
   "metadata": {},
   "outputs": [],
   "source": [
    "Total_Products_Ordered = len(customer_orders) "
   ]
  },
  {
   "cell_type": "code",
   "execution_count": 37,
   "id": "9c4bbb73-0255-4e45-8b30-fd96610533da",
   "metadata": {},
   "outputs": [
    {
     "name": "stdout",
     "output_type": "stream",
     "text": [
      "3\n"
     ]
    }
   ],
   "source": [
    "print(Total_Products_Ordered)"
   ]
  },
  {
   "cell_type": "code",
   "execution_count": 39,
   "id": "a48bfed3-9082-47c5-828c-1ba73ccdba6f",
   "metadata": {},
   "outputs": [],
   "source": [
    "Percentage_of_Products_Ordered =len(customer_orders) / len(products) *100"
   ]
  },
  {
   "cell_type": "code",
   "execution_count": 41,
   "id": "f4c0214c-db26-48c4-9dad-8681c1f987a7",
   "metadata": {},
   "outputs": [
    {
     "name": "stdout",
     "output_type": "stream",
     "text": [
      "60.0\n"
     ]
    }
   ],
   "source": [
    "print(Percentage_of_Products_Ordered) #60% es el porcentaje de productos pedidos"
   ]
  },
  {
   "cell_type": "code",
   "execution_count": 43,
   "id": "b088b26b-8780-4a21-9062-d934fd2551d3",
   "metadata": {},
   "outputs": [],
   "source": [
    "order_status = (Percentage_of_Products_Ordered, Total_Products_Ordered)"
   ]
  },
  {
   "cell_type": "code",
   "execution_count": 45,
   "id": "a65343c1-9a1b-4a58-adc5-ef53cd288f44",
   "metadata": {},
   "outputs": [
    {
     "name": "stdout",
     "output_type": "stream",
     "text": [
      "(60.0, 3)\n"
     ]
    }
   ],
   "source": [
    "print(order_status)"
   ]
  },
  {
   "cell_type": "code",
   "execution_count": 47,
   "id": "f1d66573-d458-43a7-8f55-90f6caf40fb6",
   "metadata": {},
   "outputs": [
    {
     "data": {
      "text/plain": [
       "tuple"
      ]
     },
     "execution_count": 47,
     "metadata": {},
     "output_type": "execute_result"
    }
   ],
   "source": [
    "type(order_status)"
   ]
  },
  {
   "cell_type": "code",
   "execution_count": 51,
   "id": "c1245f31-48c7-4765-b121-f22529c6b0a8",
   "metadata": {},
   "outputs": [
    {
     "name": "stdout",
     "output_type": "stream",
     "text": [
      "Order Statistics:\n",
      "        Total Products Ordered: 3\n",
      "        Percentage of Products Ordered: 60.0%\n"
     ]
    }
   ],
   "source": [
    "print(f\"\"\"Order Statistics:\n",
    "        Total Products Ordered: {Total_Products_Ordered}\n",
    "        Percentage of Products Ordered: {Percentage_of_Products_Ordered}%\"\"\")"
   ]
  },
  {
   "cell_type": "code",
   "execution_count": 53,
   "id": "ec7e2723-6859-4b11-825f-c16610b407de",
   "metadata": {},
   "outputs": [
    {
     "ename": "TypeError",
     "evalue": "'>' not supported between instances of 'str' and 'int'",
     "output_type": "error",
     "traceback": [
      "\u001b[1;31m---------------------------------------------------------------------------\u001b[0m",
      "\u001b[1;31mTypeError\u001b[0m                                 Traceback (most recent call last)",
      "Cell \u001b[1;32mIn[53], line 1\u001b[0m\n\u001b[1;32m----> 1\u001b[0m \u001b[38;5;28;01mif\u001b[39;00m inventory[\u001b[38;5;124m\"\u001b[39m\u001b[38;5;124mt-shirt\u001b[39m\u001b[38;5;124m\"\u001b[39m] \u001b[38;5;241m>\u001b[39m \u001b[38;5;241m0\u001b[39m:\n\u001b[0;32m      2\u001b[0m     inventory[\u001b[38;5;124m\"\u001b[39m\u001b[38;5;124mt-shirt\u001b[39m\u001b[38;5;124m\"\u001b[39m] \u001b[38;5;241m-\u001b[39m\u001b[38;5;241m=\u001b[39m \u001b[38;5;241m1\u001b[39m\n\u001b[0;32m      4\u001b[0m \u001b[38;5;28;01mif\u001b[39;00m inventory[\u001b[38;5;124m\"\u001b[39m\u001b[38;5;124mmug\u001b[39m\u001b[38;5;124m\"\u001b[39m] \u001b[38;5;241m>\u001b[39m \u001b[38;5;241m0\u001b[39m:\n",
      "\u001b[1;31mTypeError\u001b[0m: '>' not supported between instances of 'str' and 'int'"
     ]
    }
   ],
   "source": [
    "if inventory[\"t-shirt\"] > 0:\n",
    "    inventory[\"t-shirt\"] -= 1\n",
    "\n",
    "if inventory[\"mug\"] > 0:\n",
    "    inventory[\"mug\"] -= 1\n",
    "\n",
    "if inventory[\"hat\"] > 0:\n",
    "    inventory[\"hat\"] -= 1\n",
    "\n",
    "if inventory[\"book\"] > 0:\n",
    "    inventory[\"book\"] -= 1\n",
    "\n",
    "if inventory[\"keychain\"] > 0:\n",
    "    inventory[\"keychain\"] -= 1"
   ]
  },
  {
   "cell_type": "code",
   "execution_count": null,
   "id": "57b6ec6b-cd12-4c81-bbcc-247bfbea77bb",
   "metadata": {},
   "outputs": [],
   "source": [
    "#no he podido restarle una unidad porque al asignar los valores mediante un input se convierten en strings"
   ]
  }
 ],
 "metadata": {
  "kernelspec": {
   "display_name": "Python 3 (ipykernel)",
   "language": "python",
   "name": "python3"
  },
  "language_info": {
   "codemirror_mode": {
    "name": "ipython",
    "version": 3
   },
   "file_extension": ".py",
   "mimetype": "text/x-python",
   "name": "python",
   "nbconvert_exporter": "python",
   "pygments_lexer": "ipython3",
   "version": "3.12.4"
  }
 },
 "nbformat": 4,
 "nbformat_minor": 5
}
